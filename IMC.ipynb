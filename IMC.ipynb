{
  "nbformat": 4,
  "nbformat_minor": 0,
  "metadata": {
    "colab": {
      "name": "IMC.ipynb",
      "provenance": [],
      "authorship_tag": "ABX9TyOAIFaYMOxDbov8MY10C0+J",
      "include_colab_link": true
    },
    "kernelspec": {
      "name": "python3",
      "display_name": "Python 3"
    },
    "language_info": {
      "name": "python"
    }
  },
  "cells": [
    {
      "cell_type": "markdown",
      "metadata": {
        "id": "view-in-github",
        "colab_type": "text"
      },
      "source": [
        "<a href=\"https://colab.research.google.com/github/Maurip20/python/blob/main/IMC.ipynb\" target=\"_parent\"><img src=\"https://colab.research.google.com/assets/colab-badge.svg\" alt=\"Open In Colab\"/></a>"
      ]
    },
    {
      "cell_type": "code",
      "execution_count": null,
      "metadata": {
        "colab": {
          "base_uri": "https://localhost:8080/"
        },
        "id": "ahe7hr6y7Cn-",
        "outputId": "f1fe2ea5-c6f1-4d89-c0a7-10fc2b790540"
      },
      "outputs": [
        {
          "output_type": "stream",
          "name": "stdout",
          "text": [
            "Este programa realiza calculo do seu IMC \n",
            "\n"
          ]
        }
      ],
      "source": [
        "print(\"Este programa realiza calculo do seu IMC \\n\")\n",
        "\n",
        "peso = float(input(\"Digite seu peso atual \"))\n",
        "altura = float(input(\"Digite sua altura atual \"))\n",
        "\n",
        "print(\"\\n\")\n",
        "imc = peso / altura ** 2\n",
        "\n",
        "print(\"- Magreza, quando o resultado é menor que 18,5 kg/m2; \\n\")\n",
        "print(\"- Normal, quando o resultado está entre 18,5 e 24,9 kg/m2; \\n\") \n",
        "print(\"- Sobrepeso, quando o resultado está entre 24,9 e 30 kg/m2; \\n\") \n",
        "print(\"- Obesidade, quando o resultado é maior que 30 kg/m2 \\n\")\n",
        "\n",
        "print(\"Seu IMC é:\", imc, \"Kg/m²\")\n",
        "print(\"Seu IMC é: %.2f\" % imc, \"Kg/m²\")\n"
      ]
    },
    {
      "cell_type": "code",
      "source": [
        ""
      ],
      "metadata": {
        "id": "jzT9uNaA72A5"
      },
      "execution_count": null,
      "outputs": []
    }
  ]
}