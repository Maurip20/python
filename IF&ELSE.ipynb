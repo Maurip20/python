{
 "cells": [
  {
   "cell_type": "markdown",
   "id": "aaacd468",
   "metadata": {},
   "source": [
    "#### Condicoes no Python -> If\n",
    "#### Estrutura: \n",
    "\n",
    "### if condição:\n",
    "   ### o que fazer caso a condição seja verdadeira\n"
   ]
  },
  {
   "cell_type": "markdown",
   "id": "45c19d7e",
   "metadata": {},
   "source": [
    "### Exemplo Real (informações 100% hipotéticas e inventadas):\n",
    "\n",
    "Digamos que você trabalha na Amazon (que tem centenas de milhares, se não milhões de produtos) e está analisando o resultado de vendas dos produtos.\n",
    "\n",
    "Você precisa criar um programa que vai analisar o resultado de vendas dos produtos da Amazon em um mês. Para simplificar vamos pensar em um único produto: um Iphone.\n",
    "\n",
    "Meta de Vendas do Iphone = 50.000 unidades<br>\n",
    "Quantidade vendida no Mês = 65.300 unidades\n",
    "\n",
    "O seu programa deve avisar (usaremos o print por enquanto) caso o produto tenha batido a meta do mês. Então devemos fazer:<br>\n",
    "- Caso o produto tenha batido a meta, devemos exibir a mensagem: \"Batemos a meta de vendas de Iphone, vendemos {} unidades\" \n",
    "- Se ele não bateu a meta do mês, o seu programa não deve fazer nada"
   ]
  },
  {
   "cell_type": "code",
   "execution_count": 10,
   "id": "7c9121d9",
   "metadata": {},
   "outputs": [
    {
     "name": "stdout",
     "output_type": "stream",
     "text": [
      "A meta não foi batida faltou 1000 unidades\n"
     ]
    }
   ],
   "source": [
    "meta = 50000\n",
    "qtde_vendida = 49000\n",
    "\n",
    "if qtde_vendida > meta:\n",
    "    print(\"Batemos a meta de vendas de Iphone, vendemos {} unidades \".format(qtde_vendida))\n",
    "else:\n",
    "    print(\"A meta não foi batida faltou {} unidades\".format(meta - qtde_vendida))"
   ]
  },
  {
   "cell_type": "markdown",
   "id": "47364e65",
   "metadata": {},
   "source": [
    "### Tratando a condição falsa:\n",
    "Quando usamos o if, nem sempre queremos apenas analisar o caso verdadeiro, em boa parte das vezes queremos fazer alguma coisa caso a condição seja verdadeira e fazer outra coisa caso a condição seja falsa.\n",
    "\n",
    "Nesse caso usaremos:"
   ]
  },
  {
   "cell_type": "markdown",
   "id": "aba21376",
   "metadata": {},
   "source": [
    "if condição:\n",
    "    o que eu quero fazer caso a condição seja verdadeira\n",
    "else:\n",
    "    o que eu quero fazer caso a condição seja falsa"
   ]
  },
  {
   "cell_type": "code",
   "execution_count": 3,
   "id": "c0c5738f",
   "metadata": {},
   "outputs": [
    {
     "name": "stdout",
     "output_type": "stream",
     "text": [
      "Infelizmente não batemos a meta, vendemos 40500 unidades. A meta era de 50000 unidades. Faltou 9500\n"
     ]
    }
   ],
   "source": [
    "meta = 50000\n",
    "qtde_vendida = 40500\n",
    "\n",
    "if qtde_vendida > meta:\n",
    "    print(\"Batemos a meta de vendas de Iphone, vendemos {} unidades\".format(qtde_vendida))\n",
    "else:\n",
    "    print(\"Infelizmente não batemos a meta, vendemos {} unidades. A meta era de {} unidades. Faltou {}\".format(qtde_vendida,meta, meta-qtde_vendida))"
   ]
  },
  {
   "cell_type": "markdown",
   "id": "dbbeeebf",
   "metadata": {},
   "source": [
    "# elif\n",
    "\n",
    "E se temos mais do que um caso de sim e não?\n",
    "\n",
    "E se tivermos 3 casos?\n",
    "\n",
    "Usamos o elif da seguinte forma:"
   ]
  },
  {
   "cell_type": "markdown",
   "id": "50a8edce",
   "metadata": {},
   "source": [
    "if condição:\n",
    "    o que fazer se a condição 1 for verdadeira\n",
    "elif condição_2:\n",
    "    o que fazer se a condição 1 for falsa e a condição 2 for verdadeira\n",
    "else:\n",
    "    o que fazer se a condição 1 e a condição 2 forem falsas"
   ]
  },
  {
   "cell_type": "markdown",
   "id": "cd60b397",
   "metadata": {},
   "source": [
    "## Exemplo:\n",
    "\n",
    "Vamos criar um programa para analisar o bônus dos funcionários de uma empresa (pode parecer \"simples\", mas uma empresa como a Amazon tem 900.000 funcionários)\n",
    "\n",
    "Para os cargos de vendedores, a regra do bônus é de acordo com a meta de vendas da pessoa:\n",
    "\n",
    "Se ela vendeu abaixo da meta dela, ela não ganha bônus.\n",
    "\n",
    "Se ela vendeu acima da meta dela, ela ganha como bônus 3% do valor que ela vendeu.\n",
    "\n",
    "Se ela vendeu mais do que o dobro da meta dela, ela ganha como bônus 7% do valor que ela vendeu.\n",
    "\n",
    "Vamos criar um programa para avaliar uma pessoa que tinha como meta de vendas 20.000 reais e calcular o bônus dela de acordo com o valor de vendas que ela tiver."
   ]
  },
  {
   "cell_type": "code",
   "execution_count": 9,
   "id": "bf36b46c",
   "metadata": {},
   "outputs": [
    {
     "name": "stdout",
     "output_type": "stream",
     "text": [
      "Ganhou 2800.0000000000005 de bonus\n"
     ]
    }
   ],
   "source": [
    "meta = 20000\n",
    "vendas = 40000\n",
    "\n",
    "if vendas < meta:\n",
    "    print(\"Não ganhou bônus\")\n",
    "elif vendas >=  (2 * meta):\n",
    "    bonus = 0.07 * vendas\n",
    "    print(\"Ganhou {} de bonus\".format(bonus))\n",
    "else:\n",
    "    bonus = 0.03 * vendas\n",
    "    print(\"Ganhou {} de bônus\".format(bonus))\n"
   ]
  }
 ],
 "metadata": {
  "kernelspec": {
   "display_name": "Python 3.10.2 64-bit",
   "language": "python",
   "name": "python3"
  },
  "language_info": {
   "codemirror_mode": {
    "name": "ipython",
    "version": 3
   },
   "file_extension": ".py",
   "mimetype": "text/x-python",
   "name": "python",
   "nbconvert_exporter": "python",
   "pygments_lexer": "ipython3",
   "version": "3.10.2"
  },
  "vscode": {
   "interpreter": {
    "hash": "af0d4c5fa1b6f161b5e596a5c096af506ea1b9d148e8dd95874c2bf4a90755eb"
   }
  }
 },
 "nbformat": 4,
 "nbformat_minor": 5
}
