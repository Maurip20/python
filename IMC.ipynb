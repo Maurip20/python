{
  "cells": [
    {
      "cell_type": "markdown",
      "metadata": {
        "colab_type": "text",
        "id": "view-in-github"
      },
      "source": [
        "<a href=\"https://colab.research.google.com/github/Maurip20/python/blob/main/IMC.ipynb\" target=\"_parent\"><img src=\"https://colab.research.google.com/assets/colab-badge.svg\" alt=\"Open In Colab\"/></a>"
      ]
    },
    {
      "cell_type": "code",
      "execution_count": null,
      "metadata": {
        "colab": {
          "base_uri": "https://localhost:8080/"
        },
        "id": "ahe7hr6y7Cn-",
        "outputId": "f1fe2ea5-c6f1-4d89-c0a7-10fc2b790540"
      },
      "outputs": [
        {
          "name": "stdout",
          "output_type": "stream",
          "text": [
            "Este programa realiza calculo do seu IMC \n",
            "\n"
          ]
        }
      ],
      "source": [
        "print(\"Este programa realiza calculo do seu IMC \\n\")\n",
        "\n",
        "peso = float(input(\"Digite seu peso atual \"))\n",
        "altura = float(input(\"Digite sua altura atual \"))\n",
        "\n",
        "print(\"\\n\")\n",
        "imc = peso / altura ** 2\n",
        "\n",
        "print(\"- Magreza, quando o resultado é menor que 18,5 kg/m2; \\n\")\n",
        "print(\"- Normal, quando o resultado está entre 18,5 e 24,9 kg/m2; \\n\") \n",
        "print(\"- Sobrepeso, quando o resultado está entre 24,9 e 30 kg/m2; \\n\") \n",
        "print(\"- Obesidade, quando o resultado é maior que 30 kg/m2 \\n\")\n",
        "\n",
        "print(\"Seu IMC é:\", imc, \"Kg/m²\")\n",
        "print(\"Seu IMC é: %.2f\" % imc, \"Kg/m²\")\n"
      ]
    },
    {
      "cell_type": "code",
      "execution_count": null,
      "metadata": {
        "id": "jzT9uNaA72A5"
      },
      "outputs": [
        {
          "ename": "",
          "evalue": "",
          "output_type": "error",
          "traceback": [
            "\u001b[1;31mRunning cells with 'Python 3.10.2 64-bit' requires ipykernel package.\n",
            "Run the following command to install 'ipykernel' into the Python environment. \n",
            "Command: 'c:/Users/mauricio.santos/AppData/Local/Programs/Python/Python310/python.exe -m pip install ipykernel -U --user --force-reinstall'"
          ]
        }
      ],
      "source": []
    }
  ],
  "metadata": {
    "colab": {
      "authorship_tag": "ABX9TyOAIFaYMOxDbov8MY10C0+J",
      "include_colab_link": true,
      "name": "IMC.ipynb",
      "provenance": []
    },
    "kernelspec": {
      "display_name": "Python 3.10.2 64-bit",
      "language": "python",
      "name": "python3"
    },
    "language_info": {
      "name": "python",
      "version": "3.10.2"
    },
    "vscode": {
      "interpreter": {
        "hash": "af0d4c5fa1b6f161b5e596a5c096af506ea1b9d148e8dd95874c2bf4a90755eb"
      }
    }
  },
  "nbformat": 4,
  "nbformat_minor": 0
}
