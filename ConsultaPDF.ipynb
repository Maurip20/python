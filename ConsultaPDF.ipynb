{
 "cells": [
  {
   "cell_type": "code",
   "execution_count": 5,
   "id": "ea4ba69a",
   "metadata": {},
   "outputs": [],
   "source": [
    "#!pip install PyPDF2\n",
    "#!pip install PyMuPDF\n",
    "import PyPDF2\n",
    "import fitz"
   ]
  },
  {
   "cell_type": "code",
   "execution_count": 19,
   "id": "b8efcfcc",
   "metadata": {
    "scrolled": false
   },
   "outputs": [
    {
     "name": "stdout",
     "output_type": "stream",
     "text": [
      "Digite o endereço: teste\n",
      "Digite o tipo de documento: teste\n",
      "Endereço não encontrado.\n",
      "Tipo de Documento não encontrado.\n"
     ]
    }
   ],
   "source": [
    "def extrair_informacoes(arquivo_pdf, endereco, tipo_documento):\n",
    "    with fitz.open('C:\\\\320.pdf') as pdf:\n",
    "        texto_pagina = pdf.load_page(0).get_text()\n",
    "        linhas = texto_pagina.split('\\n')\n",
    "        \n",
    "        informacoes = {}\n",
    "        \n",
    "        for linha in linhas:\n",
    "            if endereco in linha:\n",
    "                informacoes['Endereço'] = linha.split(endereco)[1].strip()\n",
    "            if tipo_documento in linha:\n",
    "                informacoes['Tipo de Documento'] = linha.split(tipo_documento)[1].strip()\n",
    "        \n",
    "        return informacoes\n",
    "\n",
    "# Informe o caminho para o arquivo PDF\n",
    "caminho_arquivo_pdf = 'caminho_para_o_arquivo.pdf'\n",
    "\n",
    "# Solicite ao usuário o endereço e o tipo de documento\n",
    "endereco = input(\"Digite o endereço: \")\n",
    "tipo_documento = input(\"Digite o tipo de documento: \")\n",
    "\n",
    "# Extraia as informações do arquivo PDF\n",
    "informacoes = extrair_informacoes(caminho_arquivo_pdf, endereco, tipo_documento)\n",
    "\n",
    "# Exiba as informações extraídas\n",
    "if 'Endereço' in informacoes:\n",
    "    print(f\"Endereço: {informacoes['Endereço']}\")\n",
    "else:\n",
    "    print(\"Endereço não encontrado.\")\n",
    "\n",
    "if 'Tipo de Documento' in informacoes:\n",
    "    print(f\"Tipo de Documento: {informacoes['Tipo de Documento']}\")\n",
    "else:\n",
    "    print(\"Tipo de Documento não encontrado.\")\n"
   ]
  },
  {
   "cell_type": "code",
   "execution_count": null,
   "id": "5adb65ca",
   "metadata": {},
   "outputs": [],
   "source": []
  },
  {
   "cell_type": "code",
   "execution_count": null,
   "id": "1c11aef3",
   "metadata": {},
   "outputs": [],
   "source": []
  }
 ],
 "metadata": {
  "kernelspec": {
   "display_name": "Python 3",
   "language": "python",
   "name": "python3"
  },
  "language_info": {
   "codemirror_mode": {
    "name": "ipython",
    "version": 3
   },
   "file_extension": ".py",
   "mimetype": "text/x-python",
   "name": "python",
   "nbconvert_exporter": "python",
   "pygments_lexer": "ipython3",
   "version": "3.8.8"
  }
 },
 "nbformat": 4,
 "nbformat_minor": 5
}
